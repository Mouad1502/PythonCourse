{
 "cells": [
  {
   "cell_type": "code",
   "execution_count": 7,
   "id": "6678b60c-a9d9-4459-91f6-3320f3e525bb",
   "metadata": {},
   "outputs": [
    {
     "name": "stdout",
     "output_type": "stream",
     "text": [
      "                                    user_id  number_transactions   \n",
      "0      9231c446-cb16-4b2b-a7f7-ddfc8b25aaf6                  3.0  \\\n",
      "1      bb92765a-08de-4963-b432-496524b39157                  NaN   \n",
      "2      573de577-49ef-42b9-83da-d3cfb817b5c1                  2.0   \n",
      "3      d6b66b9d-7c8f-4257-a682-e136f640b7e3                  NaN   \n",
      "4      fade0b20-7594-4d9a-84cd-c02f79b1b526                  1.0   \n",
      "...                                     ...                  ...   \n",
      "45211  a218c1d6-880a-4431-a314-a1bd3dc36b21                  2.0   \n",
      "45212  6a6bf402-9416-4e71-97c6-727e8298a3a5                  4.0   \n",
      "45213  be32ba96-b178-4b54-b32a-f75b714793df                  2.0   \n",
      "45214  44623a48-4e9b-48fd-b155-a17d1c06a754                  NaN   \n",
      "45215  5905741c-3f30-416f-8ee5-71abad035de6                  3.0   \n",
      "\n",
      "       total_amount_usd  age           job   marital  education  default   \n",
      "0                2143.0   58    management   married   tertiary    False  \\\n",
      "1                   NaN   44    technician    single  secondary    False   \n",
      "2                   2.0   33  entrepreneur   married  secondary    False   \n",
      "3                   NaN   47   blue-collar   married       None    False   \n",
      "4                   1.0   33          None    single       None    False   \n",
      "...                 ...  ...           ...       ...        ...      ...   \n",
      "45211             825.0   51    technician   married   tertiary    False   \n",
      "45212            1729.0   71       retired  divorced    primary    False   \n",
      "45213            5715.0   72       retired   married  secondary    False   \n",
      "45214               NaN   57   blue-collar   married  secondary    False   \n",
      "45215            2971.0   37  entrepreneur   married  secondary    False   \n",
      "\n",
      "       housing   loan    contact  duration  campaign  pdays  previous   \n",
      "0         True  False       None       261         1     -1         0  \\\n",
      "1         True  False       None       151         1     -1         0   \n",
      "2         True   True       None        76         1     -1         0   \n",
      "3         True  False       None        92         1     -1         0   \n",
      "4        False  False       None       198         1     -1         0   \n",
      "...        ...    ...        ...       ...       ...    ...       ...   \n",
      "45211    False  False   cellular       977         3     -1         0   \n",
      "45212    False  False   cellular       456         2     -1         0   \n",
      "45213    False  False   cellular      1127         5    184         3   \n",
      "45214    False  False  telephone       508         4     -1         0   \n",
      "45215    False  False   cellular       361         2    188        11   \n",
      "\n",
      "      poutcome  term_deposit date_joined   device  \n",
      "0         None         False  1998-08-23   mobile  \n",
      "1         None         False  2008-07-15  desktop  \n",
      "2         None         False  2002-06-04   mobile  \n",
      "3         None         False  1995-06-29   tablet  \n",
      "4         None         False  1995-08-01   mobile  \n",
      "...        ...           ...         ...      ...  \n",
      "45211     None          True  2002-12-28  desktop  \n",
      "45212     None          True  2010-11-18  desktop  \n",
      "45213  success          True  1996-06-18   mobile  \n",
      "45214     None         False  1996-09-14  desktop  \n",
      "45215    other         False  1994-04-28   mobile  \n",
      "\n",
      "[45209 rows x 19 columns]\n"
     ]
    }
   ],
   "source": [
    "import pandas as pd\n",
    "import pickle\n",
    "with open('D:/data mining/Data.pickle', 'rb') as file: \n",
    "    data = pickle.load(file)\n",
    " \n",
    "# Now, 'data' contains the unpickled object\n",
    "print(data)"
   ]
  },
  {
   "cell_type": "code",
   "execution_count": null,
   "id": "0362e496-3cb4-4cb8-9b7c-9981be81e00e",
   "metadata": {},
   "outputs": [],
   "source": []
  }
 ],
 "metadata": {
  "kernelspec": {
   "display_name": "Python 3",
   "language": "python",
   "name": "python3"
  },
  "language_info": {
   "codemirror_mode": {
    "name": "ipython",
    "version": 3
   },
   "file_extension": ".py",
   "mimetype": "text/x-python",
   "name": "python",
   "nbconvert_exporter": "python",
   "pygments_lexer": "ipython3",
   "version": "3.11.2"
  }
 },
 "nbformat": 4,
 "nbformat_minor": 5
}
